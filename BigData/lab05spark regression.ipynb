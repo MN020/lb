{
 "cells": [
  {
   "cell_type": "code",
   "execution_count": 1,
   "id": "761ef5ee",
   "metadata": {},
   "outputs": [
    {
     "name": "stderr",
     "output_type": "stream",
     "text": [
      "Setting default log level to \"WARN\".\n",
      "To adjust logging level use sc.setLogLevel(newLevel). For SparkR, use setLogLevel(newLevel).\n",
      "25/05/06 14:44:38 WARN NativeCodeLoader: Unable to load native-hadoop library for your platform... using builtin-java classes where applicable\n",
      "25/05/06 14:44:41 WARN Instrumentation: [048f6d40] regParam is zero, which might cause numerical instability and overfitting.\n",
      "25/05/06 14:44:42 WARN InstanceBuilder: Failed to load implementation from:dev.ludovic.netlib.blas.JNIBLAS\n",
      "25/05/06 14:44:42 WARN InstanceBuilder: Failed to load implementation from:dev.ludovic.netlib.lapack.JNILAPACK\n"
     ]
    },
    {
     "name": "stdout",
     "output_type": "stream",
     "text": [
      "===== Regression Evaluation Metrics =====\n",
      "Coefficients: [0.06584566324781785,0.16354174977667882]\n",
      "Intercept: 91.08900531695903\n",
      "Mean Squared Error (MSE): 3271.364906774294\n",
      "Mean Absolute Error (MAE): 49.114648701604395\n",
      "Root Mean Squared Error (RMSE): 57.1958469364192\n",
      "R² (Coefficient of Determination): -0.010337607357987055\n",
      "Explained Variance (EV): 0.0029260124880602714\n"
     ]
    }
   ],
   "source": [
    "from pyspark.sql import SparkSession\n",
    "from pyspark.ml.regression import LinearRegression\n",
    "from pyspark.ml.evaluation import RegressionEvaluator\n",
    "from pyspark.ml.feature import VectorAssembler\n",
    "from pyspark.sql.functions import rand\n",
    "\n",
    "# Step 2: Initialize Spark Session\n",
    "spark = SparkSession.builder.appName(\"RegressionLab\").getOrCreate()\n",
    "\n",
    "# Step 3: Simulate a dataset with random values\n",
    "data = spark.range(0, 1000).withColumn(\"feature1\", rand() * 100)\\\n",
    "                            .withColumn(\"feature2\", rand() * 50)\\\n",
    "                            .withColumn(\"label\", rand() * 200)\n",
    "\n",
    "# Step 4: Feature Engineering using VectorAssembler\n",
    "assembler = VectorAssembler(inputCols=[\"feature1\", \"feature2\"], outputCol=\"features\")\n",
    "assembled_data = assembler.transform(data).select(\"features\", \"label\")\n",
    "\n",
    "# Step 5: Split data into training and test sets (80/20 split)\n",
    "train_data, test_data = assembled_data.randomSplit([0.8, 0.2], seed=42)\n",
    "\n",
    "# Step 6: Initialize and train the Linear Regression model\n",
    "lr = LinearRegression(featuresCol=\"features\", labelCol=\"label\")\n",
    "lr_model = lr.fit(train_data)\n",
    "\n",
    "# Step 7: Make predictions on test data\n",
    "predictions = lr_model.transform(test_data)\n",
    "\n",
    "# Step 8: Evaluate the model\n",
    "evaluator = RegressionEvaluator(labelCol=\"label\", predictionCol=\"prediction\")\n",
    "mse = evaluator.evaluate(predictions, {evaluator.metricName: \"mse\"})\n",
    "mae = evaluator.evaluate(predictions, {evaluator.metricName: \"mae\"})\n",
    "rmse = evaluator.evaluate(predictions, {evaluator.metricName: \"rmse\"})\n",
    "r2 = evaluator.evaluate(predictions, {evaluator.metricName: \"r2\"})\n",
    "\n",
    "# Manually calculate Explained Variance\n",
    "explained_variance = predictions.selectExpr(\n",
    "    \"variance(prediction) as var_pred\", \"variance(label) as var_label\"\n",
    ").collect()\n",
    "ev = explained_variance[0]['var_pred'] / explained_variance[0]['var_label']\n",
    "\n",
    "# Step 9: Print results\n",
    "print(\"===== Regression Evaluation Metrics =====\")\n",
    "print(f\"Coefficients: {lr_model.coefficients}\")\n",
    "print(f\"Intercept: {lr_model.intercept}\")\n",
    "print(f\"Mean Squared Error (MSE): {mse}\")\n",
    "print(f\"Mean Absolute Error (MAE): {mae}\")\n",
    "print(f\"Root Mean Squared Error (RMSE): {rmse}\")\n",
    "print(f\"R² (Coefficient of Determination): {r2}\")\n",
    "print(f\"Explained Variance (EV): {ev}\")"
   ]
  },
  {
   "cell_type": "code",
   "execution_count": null,
   "id": "4eef0bc5",
   "metadata": {},
   "outputs": [],
   "source": []
  }
 ],
 "metadata": {
  "kernelspec": {
   "display_name": "Python 3 (ipykernel)",
   "language": "python",
   "name": "python3"
  },
  "language_info": {
   "codemirror_mode": {
    "name": "ipython",
    "version": 3
   },
   "file_extension": ".py",
   "mimetype": "text/x-python",
   "name": "python",
   "nbconvert_exporter": "python",
   "pygments_lexer": "ipython3",
   "version": "3.10.17"
  }
 },
 "nbformat": 4,
 "nbformat_minor": 5
}
