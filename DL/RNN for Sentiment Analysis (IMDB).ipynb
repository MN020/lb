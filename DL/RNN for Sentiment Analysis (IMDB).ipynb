{
 "cells": [
  {
   "cell_type": "markdown",
   "id": "ece3f72b-c978-4665-8c91-9fc481ee4e4d",
   "metadata": {},
   "source": [
    "# RNN for Sentiment Analysis (IMDB)"
   ]
  },
  {
   "cell_type": "code",
   "execution_count": 1,
   "id": "26ea6ca7-e9d4-4dab-9934-731191f01e22",
   "metadata": {},
   "outputs": [
    {
     "name": "stdout",
     "output_type": "stream",
     "text": [
      "Epoch 1/2\n",
      "\u001b[1m782/782\u001b[0m \u001b[32m━━━━━━━━━━━━━━━━━━━━\u001b[0m\u001b[37m\u001b[0m \u001b[1m40s\u001b[0m 44ms/step - accuracy: 0.6143 - loss: 0.6252\n",
      "Epoch 2/2\n",
      "\u001b[1m782/782\u001b[0m \u001b[32m━━━━━━━━━━━━━━━━━━━━\u001b[0m\u001b[37m\u001b[0m \u001b[1m35s\u001b[0m 45ms/step - accuracy: 0.8666 - loss: 0.3284\n"
     ]
    },
    {
     "data": {
      "text/plain": [
       "<keras.src.callbacks.history.History at 0x1561030e450>"
      ]
     },
     "execution_count": 1,
     "metadata": {},
     "output_type": "execute_result"
    }
   ],
   "source": [
    "from tensorflow.keras.datasets import imdb\n",
    "from tensorflow.keras.preprocessing.sequence import pad_sequences\n",
    "from tensorflow.keras.models import Sequential\n",
    "from tensorflow.keras.layers import Embedding, SimpleRNN, Dense\n",
    "\n",
    "# Load IMDB dataset\n",
    "(x_train, y_train), _ = imdb.load_data(num_words=10000)\n",
    "x_train = pad_sequences(x_train, maxlen=100)  # Pad sequences to uniform length\n",
    "\n",
    "# RNN model\n",
    "model = Sequential([\n",
    "    Embedding(10000, 16),  # Embedding layer\n",
    "    SimpleRNN(16),         # RNN layer\n",
    "    Dense(1, activation='sigmoid')  # Binary output\n",
    "])\n",
    "\n",
    "# Compile and train\n",
    "model.compile(optimizer='adam', loss='binary_crossentropy', metrics=['accuracy'])\n",
    "model.fit(x_train, y_train, epochs=2)\n",
    "\n"
   ]
  }
 ],
 "metadata": {
  "kernelspec": {
   "display_name": "Python 3 (ipykernel)",
   "language": "python",
   "name": "python3"
  },
  "language_info": {
   "codemirror_mode": {
    "name": "ipython",
    "version": 3
   },
   "file_extension": ".py",
   "mimetype": "text/x-python",
   "name": "python",
   "nbconvert_exporter": "python",
   "pygments_lexer": "ipython3",
   "version": "3.11.8"
  }
 },
 "nbformat": 4,
 "nbformat_minor": 5
}
