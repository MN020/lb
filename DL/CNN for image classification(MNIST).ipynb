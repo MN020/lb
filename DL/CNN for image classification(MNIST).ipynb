{
 "cells": [
  {
   "cell_type": "markdown",
   "id": "7c71ab6a-9741-4782-a786-21fcf3928ea0",
   "metadata": {},
   "source": [
    "# CNN for image classification(MNIST)"
   ]
  },
  {
   "cell_type": "code",
   "execution_count": 1,
   "id": "e6d40f09-c097-400f-b184-e76ba97375da",
   "metadata": {},
   "outputs": [],
   "source": [
    "from tensorflow.keras.models import Sequential\n",
    "from tensorflow.keras.layers import Conv2D, MaxPooling2D, Flatten, Dense\n",
    "from tensorflow.keras.datasets import mnist\n"
   ]
  },
  {
   "cell_type": "code",
   "execution_count": 2,
   "id": "674ac597-5beb-48f4-bb30-773fc33d67d3",
   "metadata": {},
   "outputs": [],
   "source": [
    "# Load and preprocess data\n",
    "(x_train, y_train), _ = mnist.load_data()\n",
    "x_train = x_train.reshape(-1, 28, 28, 1) / 255.0  # Add channel and normalize\n"
   ]
  },
  {
   "cell_type": "code",
   "execution_count": 3,
   "id": "9987f395-de43-4ed0-ad5f-f7f75aaec176",
   "metadata": {},
   "outputs": [
    {
     "name": "stderr",
     "output_type": "stream",
     "text": [
      "C:\\Users\\hp\\AppData\\Local\\Programs\\Python\\Python311\\Lib\\site-packages\\keras\\src\\layers\\convolutional\\base_conv.py:107: UserWarning: Do not pass an `input_shape`/`input_dim` argument to a layer. When using Sequential models, prefer using an `Input(shape)` object as the first layer in the model instead.\n",
      "  super().__init__(activity_regularizer=activity_regularizer, **kwargs)\n"
     ]
    }
   ],
   "source": [
    "# CNN model\n",
    "model = Sequential([\n",
    "    Conv2D(8, (3,3), activation='relu', input_shape=(28,28,1)),\n",
    "    MaxPooling2D(),\n",
    "    Flatten(),\n",
    "    Dense(10, activation='softmax')  # 10 output classes\n",
    "])\n"
   ]
  },
  {
   "cell_type": "code",
   "execution_count": 4,
   "id": "5e4b2ddd-aa6c-4982-be95-21340ebf1a08",
   "metadata": {},
   "outputs": [
    {
     "name": "stdout",
     "output_type": "stream",
     "text": [
      "Epoch 1/3\n",
      "\u001b[1m1875/1875\u001b[0m \u001b[32m━━━━━━━━━━━━━━━━━━━━\u001b[0m\u001b[37m\u001b[0m \u001b[1m17s\u001b[0m 8ms/step - accuracy: 0.8517 - loss: 0.5485\n",
      "Epoch 2/3\n",
      "\u001b[1m1875/1875\u001b[0m \u001b[32m━━━━━━━━━━━━━━━━━━━━\u001b[0m\u001b[37m\u001b[0m \u001b[1m14s\u001b[0m 8ms/step - accuracy: 0.9660 - loss: 0.1204\n",
      "Epoch 3/3\n",
      "\u001b[1m1875/1875\u001b[0m \u001b[32m━━━━━━━━━━━━━━━━━━━━\u001b[0m\u001b[37m\u001b[0m \u001b[1m14s\u001b[0m 8ms/step - accuracy: 0.9745 - loss: 0.0878\n"
     ]
    },
    {
     "data": {
      "text/plain": [
       "<keras.src.callbacks.history.History at 0x2460bd91810>"
      ]
     },
     "execution_count": 4,
     "metadata": {},
     "output_type": "execute_result"
    }
   ],
   "source": [
    "# Compile and train\n",
    "model.compile(optimizer='adam', loss='sparse_categorical_crossentropy', metrics=['accuracy'])\n",
    "model.fit(x_train, y_train, epochs=3)\n",
    "\n"
   ]
  }
 ],
 "metadata": {
  "kernelspec": {
   "display_name": "Python 3 (ipykernel)",
   "language": "python",
   "name": "python3"
  },
  "language_info": {
   "codemirror_mode": {
    "name": "ipython",
    "version": 3
   },
   "file_extension": ".py",
   "mimetype": "text/x-python",
   "name": "python",
   "nbconvert_exporter": "python",
   "pygments_lexer": "ipython3",
   "version": "3.11.8"
  }
 },
 "nbformat": 4,
 "nbformat_minor": 5
}
