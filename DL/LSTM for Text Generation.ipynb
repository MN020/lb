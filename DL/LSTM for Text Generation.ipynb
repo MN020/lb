{
 "cells": [
  {
   "cell_type": "markdown",
   "id": "cfd63e28-769c-431e-b501-1678076a4938",
   "metadata": {},
   "source": [
    "# LSTM for Text Generation"
   ]
  },
  {
   "cell_type": "code",
   "execution_count": 1,
   "id": "34137eff-c7ed-4ad0-88f7-4d00ec54d12b",
   "metadata": {},
   "outputs": [
    {
     "data": {
      "text/plain": [
       "<keras.src.callbacks.history.History at 0x1e16e3397d0>"
      ]
     },
     "execution_count": 1,
     "metadata": {},
     "output_type": "execute_result"
    }
   ],
   "source": [
    "from tensorflow.keras.models import Sequential\n",
    "from tensorflow.keras.layers import Embedding, LSTM, Dense\n",
    "import numpy as np\n",
    "\n",
    "text = \"deep learning rocks\"\n",
    "chars = sorted(set(text))                     # Unique characters\n",
    "c2i = {c:i for i,c in enumerate(chars)}\n",
    "i2c = {i:c for c,i in c2i.items()}\n",
    "\n",
    "# Prepare training data\n",
    "X = np.array([[c2i[c] for c in text[i:i+3]] for i in range(len(text)-3)])\n",
    "y = np.array([c2i[text[i+3]] for i in range(len(text)-3)])\n",
    "\n",
    "# LSTM model\n",
    "model = Sequential([\n",
    "    Embedding(len(chars), 8),\n",
    "    LSTM(16),\n",
    "    Dense(len(chars), activation='softmax')\n",
    "])\n",
    "\n",
    "# Compile and train\n",
    "model.compile(optimizer='adam', loss='sparse_categorical_crossentropy')\n",
    "model.fit(X, y, epochs=100, verbose=0)\n",
    "\n"
   ]
  }
 ],
 "metadata": {
  "kernelspec": {
   "display_name": "Python 3 (ipykernel)",
   "language": "python",
   "name": "python3"
  },
  "language_info": {
   "codemirror_mode": {
    "name": "ipython",
    "version": 3
   },
   "file_extension": ".py",
   "mimetype": "text/x-python",
   "name": "python",
   "nbconvert_exporter": "python",
   "pygments_lexer": "ipython3",
   "version": "3.11.8"
  }
 },
 "nbformat": 4,
 "nbformat_minor": 5
}
