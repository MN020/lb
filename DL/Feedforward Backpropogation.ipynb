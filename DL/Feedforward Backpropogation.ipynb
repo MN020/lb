{
 "cells": [
  {
   "cell_type": "markdown",
   "id": "048fe574-6f77-42d2-b57a-8a7b71855c6e",
   "metadata": {},
   "source": [
    "# Simple feedforward Backpropogation"
   ]
  },
  {
   "cell_type": "code",
   "execution_count": 1,
   "id": "f8cada13-61ca-456c-bb49-24c937ce207d",
   "metadata": {},
   "outputs": [],
   "source": [
    "import numpy as np"
   ]
  },
  {
   "cell_type": "code",
   "execution_count": 2,
   "id": "69a41f94-1aad-4066-96e6-9589523a753b",
   "metadata": {},
   "outputs": [],
   "source": [
    "# Input (X) and expected output (y) for XOR problem\n",
    "X = np.array([[0,0], [0,1], [1,0], [1,1]])\n",
    "y = np.array([[0], [1], [1], [0]])"
   ]
  },
  {
   "cell_type": "code",
   "execution_count": 3,
   "id": "27a2f586-689b-4bff-a5e6-c94274a60c65",
   "metadata": {},
   "outputs": [],
   "source": [
    "# Initialize weights randomly\n",
    "w1 = np.random.rand(2,2)\n",
    "w2 = np.random.rand(2,1)"
   ]
  },
  {
   "cell_type": "code",
   "execution_count": 4,
   "id": "be38435a-ea24-4bd5-854c-c1468b41797b",
   "metadata": {},
   "outputs": [],
   "source": [
    "# Activation and derivative functions\n",
    "def sigmoid(x): return 1/(1+ np.exp(-x))\n",
    "def deriv(x): return x * (1-x)"
   ]
  },
  {
   "cell_type": "code",
   "execution_count": 5,
   "id": "28bfc310-9627-4c63-8400-c05d6980b759",
   "metadata": {},
   "outputs": [],
   "source": [
    "# Training loop\n",
    "for _ in range(10000):\n",
    "    h = sigmoid(np.dot(X, w1))    # Hidden layer\n",
    "    out = sigmoid(np.dot(h, w2))   # Output layer\n",
    "    error = y - out      # Calculate error\n",
    "    dw2 = h.T.dot(error * deriv(out))      # Weight update for w2\n",
    "    dw1 = h.T.dot((error * deriv(out)).dot(w2.T)*deriv(h))    # Weight update for w1\n",
    "    w2 += dw2\n",
    "    w1 += dw1"
   ]
  },
  {
   "cell_type": "code",
   "execution_count": 6,
   "id": "3ca09469-bba8-49b7-aa8b-501f56e0ad8e",
   "metadata": {},
   "outputs": [
    {
     "name": "stdout",
     "output_type": "stream",
     "text": [
      "Output:\n",
      " [[0.52745317]\n",
      " [0.55228331]\n",
      " [0.5470261 ]\n",
      " [0.5544646 ]]\n"
     ]
    }
   ],
   "source": [
    "# Final output after training\n",
    "print(\"Output:\\n\",out)"
   ]
  }
 ],
 "metadata": {
  "kernelspec": {
   "display_name": "Python 3 (ipykernel)",
   "language": "python",
   "name": "python3"
  },
  "language_info": {
   "codemirror_mode": {
    "name": "ipython",
    "version": 3
   },
   "file_extension": ".py",
   "mimetype": "text/x-python",
   "name": "python",
   "nbconvert_exporter": "python",
   "pygments_lexer": "ipython3",
   "version": "3.11.8"
  }
 },
 "nbformat": 4,
 "nbformat_minor": 5
}
