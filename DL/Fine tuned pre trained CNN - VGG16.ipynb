{
 "cells": [
  {
   "cell_type": "markdown",
   "id": "52e64160-7897-486b-8753-0d127670899a",
   "metadata": {},
   "source": [
    "# Fine tuned pre trained CNN - VGG16.ipynb"
   ]
  },
  {
   "cell_type": "code",
   "execution_count": 1,
   "id": "d5284e26-b515-4d30-a2dc-129e16400a47",
   "metadata": {},
   "outputs": [],
   "source": [
    "from tensorflow.keras.applications import VGG16\n",
    "from tensorflow.keras.models import Sequential\n",
    "from tensorflow.keras.layers import Flatten, Dense"
   ]
  },
  {
   "cell_type": "code",
   "execution_count": 2,
   "id": "0cd00e64-a26c-4a39-8538-7b708db780a2",
   "metadata": {},
   "outputs": [],
   "source": [
    "# Load base model without top classification layer\n",
    "base = VGG16(weights='imagenet', include_top=False, input_shape=(64, 64, 3))\n",
    "base.trainable = False  # Freeze weights\n"
   ]
  },
  {
   "cell_type": "code",
   "execution_count": 3,
   "id": "179e55dd-287a-4794-9b73-135f303aae43",
   "metadata": {},
   "outputs": [],
   "source": [
    "# Add custom classification head\n",
    "model = Sequential([\n",
    "    base,\n",
    "    Flatten(),\n",
    "    Dense(2, activation='softmax')  # Example for binary classification\n",
    "])"
   ]
  },
  {
   "cell_type": "code",
   "execution_count": 4,
   "id": "dcc82ef1-acef-48b9-92fb-18c443b1ced2",
   "metadata": {},
   "outputs": [],
   "source": [
    "model.compile(optimizer='adam', loss='categorical_crossentropy', metrics=['accuracy'])"
   ]
  },
  {
   "cell_type": "code",
   "execution_count": null,
   "id": "c615d316-2ae3-465e-9f70-86d7319f3a43",
   "metadata": {},
   "outputs": [],
   "source": [
    "model.fit(x_train, y_train, epochs=3)"
   ]
  }
 ],
 "metadata": {
  "kernelspec": {
   "display_name": "Python 3 (ipykernel)",
   "language": "python",
   "name": "python3"
  },
  "language_info": {
   "codemirror_mode": {
    "name": "ipython",
    "version": 3
   },
   "file_extension": ".py",
   "mimetype": "text/x-python",
   "name": "python",
   "nbconvert_exporter": "python",
   "pygments_lexer": "ipython3",
   "version": "3.11.8"
  }
 },
 "nbformat": 4,
 "nbformat_minor": 5
}
